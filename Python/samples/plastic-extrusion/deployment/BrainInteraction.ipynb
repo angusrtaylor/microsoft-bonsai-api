{
 "cells": [
  {
   "cell_type": "code",
   "execution_count": 1,
   "id": "1fc67707-779c-4a63-9d21-76e244575a25",
   "metadata": {},
   "outputs": [],
   "source": [
    "import requests\n",
    "import json"
   ]
  },
  {
   "cell_type": "code",
   "execution_count": 2,
   "id": "f222e5d4-5618-4b62-ba51-9109e49d5302",
   "metadata": {},
   "outputs": [],
   "source": [
    "# General variables\n",
    "url = \"http://localhost:5000\"\n",
    "predictionPath = \"/v1/prediction\"\n",
    "headers = {\n",
    "  \"Content-Type\": \"application/json\"\n",
    "}\n",
    "METERS_PER_INCH = 0.0254\n",
    "\n",
    "# Build the endpoint reference\n",
    "endpoint = url + predictionPath\n",
    "\n",
    "# Set the request variables\n",
    "requestBody = {\n",
    "  \"screw_angular_speed\": 4e-6,\n",
    "  \"cutter_frequency\": 4e-6,\n",
    "  \"product_length\": 4 * 12 * METERS_PER_INCH,\n",
    "  \"flow_rate\": 2.3e-5,\n",
    "    \"temperature\": 190 + 273.15\n",
    "}"
   ]
  },
  {
   "cell_type": "code",
   "execution_count": 3,
   "id": "11366632-6118-4a03-84a3-a0e145cac27d",
   "metadata": {},
   "outputs": [
    {
     "data": {
      "text/plain": [
       "{'screw_angular_speed': 4e-06,\n",
       " 'cutter_frequency': 4e-06,\n",
       " 'product_length': 1.2191999999999998,\n",
       " 'flow_rate': 2.3e-05,\n",
       " 'temperature': 463.15}"
      ]
     },
     "execution_count": 3,
     "metadata": {},
     "output_type": "execute_result"
    }
   ],
   "source": [
    "requestBody"
   ]
  },
  {
   "cell_type": "code",
   "execution_count": 4,
   "id": "be746e81-1bba-45d6-a3c5-e405b0b8f2db",
   "metadata": {},
   "outputs": [],
   "source": [
    "# Send the POST request\n",
    "response = requests.post(\n",
    "            endpoint,\n",
    "            data = json.dumps(requestBody),\n",
    "            headers = headers\n",
    "          )"
   ]
  },
  {
   "cell_type": "code",
   "execution_count": 5,
   "id": "895439b1-9d1b-42d7-a61b-a2ace541de6d",
   "metadata": {},
   "outputs": [
    {
     "data": {
      "text/plain": [
       "{'screw_angular_acceleration': -0.004125427920371294,\n",
       " 'cutter_acceleration': 0.010000000707805157}"
      ]
     },
     "execution_count": 5,
     "metadata": {},
     "output_type": "execute_result"
    }
   ],
   "source": [
    "response.json()"
   ]
  },
  {
   "cell_type": "code",
   "execution_count": 6,
   "id": "d01fdaf1-a583-4850-a188-808deaf0cbb4",
   "metadata": {},
   "outputs": [
    {
     "data": {
      "text/plain": [
       "{'screw_angular_acceleration': -0.004125427920371294,\n",
       " 'cutter_acceleration': 0.010000000707805157}"
      ]
     },
     "execution_count": 6,
     "metadata": {},
     "output_type": "execute_result"
    }
   ],
   "source": [
    "response.json()"
   ]
  },
  {
   "cell_type": "code",
   "execution_count": 7,
   "id": "dfadad0e-54a2-4ffc-b26b-97f36cb7aca3",
   "metadata": {},
   "outputs": [
    {
     "data": {
      "text/plain": [
       "{'screw_angular_acceleration': -0.004125427920371294,\n",
       " 'cutter_acceleration': 0.010000000707805157}"
      ]
     },
     "execution_count": 7,
     "metadata": {},
     "output_type": "execute_result"
    }
   ],
   "source": [
    "response.json()"
   ]
  },
  {
   "cell_type": "code",
   "execution_count": null,
   "id": "c83e1662-5331-43f8-9c68-11881211cbe5",
   "metadata": {},
   "outputs": [],
   "source": []
  }
 ],
 "metadata": {
  "kernelspec": {
   "display_name": "bonsai-env",
   "language": "python",
   "name": "bonsai-env"
  },
  "language_info": {
   "codemirror_mode": {
    "name": "ipython",
    "version": 3
   },
   "file_extension": ".py",
   "mimetype": "text/x-python",
   "name": "python",
   "nbconvert_exporter": "python",
   "pygments_lexer": "ipython3",
   "version": "3.8.1"
  }
 },
 "nbformat": 4,
 "nbformat_minor": 5
}
